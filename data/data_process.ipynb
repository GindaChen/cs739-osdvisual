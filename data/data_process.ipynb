{
 "cells": [
  {
   "cell_type": "markdown",
   "metadata": {},
   "source": [
    "# OSD JSON - Construction"
   ]
  },
  {
   "cell_type": "markdown",
   "metadata": {},
   "source": [
    "JSON Format. Will stress more important information\n",
    "\n",
    "```js\n",
    "// Internal Nodes\n",
    "{\n",
    "    \"name\": \"room2\",\n",
    "    \"children\": [ {...} ],\n",
    "    \"type\": // \"host\",  \"ipservice\",  \"osd\",  \"rack\",  \"room\",  \"root\",  \"row\"\n",
    "    \"data\": the raw data\n",
    "}\n",
    "\n",
    "// OSD Nodes\n",
    "{\n",
    "    \"name\": \"osd.323\",\n",
    "    \"children\": [ {...} ],\n",
    "    \"type\": \"osd\", // certainly osd\n",
    "    \"exists\": 1,   // 0, 1\n",
    "    \"status\": \"up\" ,// \"up\", \"down\n",
    "    \"data\": the raw data\n",
    "}\n",
    "```"
   ]
  },
  {
   "cell_type": "markdown",
   "metadata": {},
   "source": [
    "## Production\n",
    "\n",
    "- Source json directory: `rawdata`\n",
    "- Product json directory: `product`"
   ]
  },
  {
   "cell_type": "code",
   "execution_count": 18,
   "metadata": {},
   "outputs": [],
   "source": [
    "import json\n",
    "import glob as glob\n",
    "from copy import deepcopy"
   ]
  },
  {
   "cell_type": "code",
   "execution_count": 2,
   "metadata": {},
   "outputs": [],
   "source": [
    "def indexableNodes(nodes):\n",
    "    return {str(node[\"id\"]):node for node in nodes}\n",
    "\n",
    "def getRoots(nodes):\n",
    "    ROOT_TYPE = \"root\" # ROOT_ID = 10\n",
    "    return [ k for k in nodes if nodes[k][\"type\"] == ROOT_TYPE]"
   ]
  },
  {
   "cell_type": "markdown",
   "metadata": {},
   "source": [
    "### OSD and Internal Node Generation"
   ]
  },
  {
   "cell_type": "code",
   "execution_count": 39,
   "metadata": {},
   "outputs": [],
   "source": [
    "def getOSDNode(node):\n",
    "    osd_health = 1 if node[\"status\"] == \"up\" else 0\n",
    "    ret = { \n",
    "        \"name\": node[\"name\"], \n",
    "        \"status\": node[\"status\"], # up/down\n",
    "        \"type\": node[\"type\"],\n",
    "        \"exists\": node[\"exists\"],   # \n",
    "        \"osd_counts\": 1,\n",
    "        \"osd_health\": osd_health,\n",
    "        \"data\": node\n",
    "    }\n",
    "    return ret\n",
    "\n",
    "def getInternalNode(node, cnodes):\n",
    "    osd_counts = sum([n[\"osd_counts\"] for n in cnodes])\n",
    "    osd_health = sum([n[\"osd_health\"] for n in cnodes])\n",
    "#     print(node[\"name\"], osd_counts, osd_health)\n",
    "    ret = {\n",
    "        \"name\": node[\"name\"],\n",
    "        \"type\": node[\"type\"],\n",
    "        \"children\": cnodes,\n",
    "        \"osd_counts\": osd_counts,\n",
    "        \"osd_health\": osd_health,\n",
    "        \"data\": node\n",
    "    }\n",
    "    return ret"
   ]
  },
  {
   "cell_type": "code",
   "execution_count": 34,
   "metadata": {},
   "outputs": [],
   "source": [
    "def getTree(nodes):\n",
    "    roots = getRoots(nodes);\n",
    "    cnodes = [getTree_(i, nodes) for i in roots];\n",
    "    return {\n",
    "        \"name\": \"_root\",\n",
    "        \"children\": cnodes\n",
    "    };\n",
    "\n",
    "\n",
    "def getTree_(i, nodes):\n",
    "    node = nodes[i]\n",
    "\n",
    "    if node[\"type\"] == \"osd\":\n",
    "        return getOSDNode(node)\n",
    "    \n",
    "    cnodes = [getTree_(str(n), nodes) for n in node[\"children\"]]\n",
    "    ret = getInternalNode(node, cnodes)\n",
    "    \n",
    "    return ret"
   ]
  },
  {
   "cell_type": "code",
   "execution_count": 37,
   "metadata": {},
   "outputs": [
    {
     "name": "stdout",
     "output_type": "stream",
     "text": [
      "Exist product directory\n",
      "Produce rawdata/jim.json\n",
      "  - Write to product/jim.product.json\n",
      "Produce rawdata/erin.json\n",
      "  - Write to product/erin.product.json\n",
      "Produce rawdata/kelly.json\n",
      "  - Write to product/kelly.product.json\n",
      "Produce rawdata/beesly.json\n",
      "  - Write to product/beesly.product.json\n"
     ]
    }
   ],
   "source": [
    "import os\n",
    "\n",
    "rawdata_dir = \"rawdata\"\n",
    "product_dir = \"product\"\n",
    "\n",
    "try:\n",
    "    os.mkdir(product_dir)\n",
    "    print(\"Creat product directory\")\n",
    "except:\n",
    "    print(\"Exist product directory\")\n",
    "\n",
    "\n",
    "# Find all json files in the rawdata directory\n",
    "jsonFiles = glob.glob(\"{0}/*.json\".format(rawdata_dir))\n",
    "for fs in jsonFiles:\n",
    "    # Construct the path to store data\n",
    "    basename = os.path.basename(fs)\n",
    "    fdname = os.path.splitext(basename)[0]\n",
    "    fdpath = product_dir + \"/\" + fdname + \".product.json\"    \n",
    "    with open(fs) as f:\n",
    "        print(\"Produce {0}\".format(fs))\n",
    "        data = json.load(f)\n",
    "        t = getTree(indexableNodes(data[\"nodes\"]))\n",
    "        with open(fdpath, \"w+\") as fd:\n",
    "\n",
    "#             json.dump(t, fd)\n",
    "            json.dump(t, fd, indent=2)\n",
    "            print(\"  - Write to {0}\".format(fdpath))"
   ]
  },
  {
   "cell_type": "code",
   "execution_count": null,
   "metadata": {},
   "outputs": [],
   "source": []
  }
 ],
 "metadata": {
  "kernelspec": {
   "display_name": "Python 3",
   "language": "python",
   "name": "python3"
  },
  "language_info": {
   "codemirror_mode": {
    "name": "ipython",
    "version": 3
   },
   "file_extension": ".py",
   "mimetype": "text/x-python",
   "name": "python",
   "nbconvert_exporter": "python",
   "pygments_lexer": "ipython3",
   "version": "3.6.4"
  }
 },
 "nbformat": 4,
 "nbformat_minor": 2
}
