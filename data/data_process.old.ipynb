{
 "cells": [
  {
   "cell_type": "markdown",
   "metadata": {},
   "source": [
    "# Ceph OSD json file format"
   ]
  },
  {
   "cell_type": "code",
   "execution_count": 2,
   "metadata": {},
   "outputs": [],
   "source": [
    "import json\n",
    "import glob as glob"
   ]
  },
  {
   "cell_type": "markdown",
   "metadata": {},
   "source": [
    "## Construction 1. A Simple Hierachical Parser"
   ]
  },
  {
   "cell_type": "code",
   "execution_count": 1,
   "metadata": {},
   "outputs": [],
   "source": [
    "from copy import deepcopy\n",
    "\n",
    "def indexableNodes(nodes):\n",
    "    return {str(node[\"id\"]):node for node in nodes}\n",
    "\n",
    "def getRoots(nodes):\n",
    "    ROOT_TYPE = \"root\" # ROOT_ID = 10\n",
    "    return [ k for k in nodes if nodes[k][\"type\"] == ROOT_TYPE]\n"
   ]
  },
  {
   "cell_type": "code",
   "execution_count": 20,
   "metadata": {},
   "outputs": [],
   "source": [
    "\n",
    "def getTree(nodes):\n",
    "    roots = getRoots(nodes);\n",
    "    return {\n",
    "        \"name\": \"_root\",\n",
    "        \"children\": [getTree_(i, nodes) for i in roots]\n",
    "    };\n",
    "\n",
    "\n",
    "def getTree_(i, nodes):\n",
    "    \"\"\"\n",
    "        i: string-typed index\n",
    "        nodes: the indexable nodes representation\n",
    "    \"\"\"\n",
    "    node = nodes[i]\n",
    "    \n",
    "#     print(i, type(i), node)\n",
    "\n",
    "    if node[\"type\"] == \"osd\":\n",
    "        status = node[\"status\"]\n",
    "        ret = { \n",
    "            \"name\": node[\"name\"], \n",
    "            \"status\": status, # Temporary indication of the \n",
    "            \"data\": node\n",
    "        }\n",
    "        return ret;\n",
    "    \n",
    "    children = node[\"children\"]\n",
    "    cnode = [getTree_(str(n), nodes) for n in children]\n",
    "    ret = {\n",
    "        \"name\": node[\"name\"],\n",
    "        \"children\": cnodes,\n",
    "        \"data\": node\n",
    "    }\n",
    "    return ret"
   ]
  },
  {
   "cell_type": "code",
   "execution_count": 24,
   "metadata": {},
   "outputs": [],
   "source": []
  },
  {
   "cell_type": "markdown",
   "metadata": {},
   "source": [
    "## Test"
   ]
  },
  {
   "cell_type": "code",
   "execution_count": 129,
   "metadata": {},
   "outputs": [
    {
     "name": "stdout",
     "output_type": "stream",
     "text": [
      "[Errno 2] No such file or directory: 'data'\n",
      "/Users/mike/Documents/GitHub/cs739-osdvisual/data\n"
     ]
    }
   ],
   "source": [
    "cd data"
   ]
  },
  {
   "cell_type": "code",
   "execution_count": 131,
   "metadata": {},
   "outputs": [
    {
     "name": "stdout",
     "output_type": "stream",
     "text": [
      "'getTree'  6.39 ms\n"
     ]
    }
   ],
   "source": [
    "data = json.load(open(\"rawdata/beesly.json\"))\n",
    "nodes = indexableNodes(data[\"nodes\"])\n",
    "t = getTree(nodes)\n",
    "with open(\"processed.json\", \"w+\") as f:\n",
    "    json.dump(t, f)"
   ]
  },
  {
   "cell_type": "markdown",
   "metadata": {},
   "source": [
    "## Production\n",
    "\n",
    "- Source json directory: `rawdata`\n",
    "- Product json directory: `product`"
   ]
  },
  {
   "cell_type": "code",
   "execution_count": 21,
   "metadata": {},
   "outputs": [
    {
     "name": "stdout",
     "output_type": "stream",
     "text": [
      "Exist product directory\n",
      "Write product/jim.product.json\n",
      "Write product/erin.product.json\n",
      "Write product/kelly.product.json\n",
      "Write product/beesly.product.json\n"
     ]
    }
   ],
   "source": [
    "import os\n",
    "\n",
    "rawdata_dir = \"rawdata\"\n",
    "product_dir = \"product\"\n",
    "\n",
    "try:\n",
    "    os.mkdir(product_dir)\n",
    "    print(\"Creat product directory\")\n",
    "except:\n",
    "    print(\"Exist product directory\")\n",
    "\n",
    "\n",
    "# Find all json files in the rawdata directory\n",
    "jsonFiles = glob.glob(\"{0}/*.json\".format(rawdata_dir))\n",
    "for fs in jsonFiles:\n",
    "    # Construct the path to store data\n",
    "    basename = os.path.basename(fs)\n",
    "    fdname = os.path.splitext(basename)[0]\n",
    "    fdpath = product_dir + \"/\" + fdname + \".product.json\"    \n",
    "    with open(fs) as f:\n",
    "        data = json.load(f)\n",
    "        t = getTree(indexableNodes(data[\"nodes\"]))  \n",
    "        with open(fdpath, \"w+\") as fd:\n",
    "            print(\"Write {0}\".format(fdpath))\n",
    "            json.dump(t, fd)"
   ]
  },
  {
   "cell_type": "markdown",
   "metadata": {},
   "source": [
    "## Minimal Production\n",
    "- Internal node: preserve a path\n",
    "- Leaf: perserve the status (as size)"
   ]
  },
  {
   "cell_type": "code",
   "execution_count": 18,
   "metadata": {},
   "outputs": [],
   "source": [
    "def getminiTree(nodes):\n",
    "    roots = getRoots(nodes);\n",
    "    return {\n",
    "        \"name\": \"_root\", # Recursion below\n",
    "        \"children\": [getminiTree_(i, nodes) for i in roots]\n",
    "    };\n",
    "\n",
    "\n",
    "def getminiTree_(i, nodes):\n",
    "    \"\"\"\n",
    "        i: string-typed index\n",
    "        nodes: the indexable nodes representation\n",
    "    \"\"\"\n",
    "    node = nodes[i]\n",
    "    \n",
    "    if node[\"type\"] == \"osd\":\n",
    "        status = 1 if node[\"status\"] == \"up\" else 0\n",
    "        ret = { \n",
    "            \"name\": node[\"name\"], \n",
    "            \"size\": status,\n",
    "            \"type\": node[\"type\"]\n",
    "        }\n",
    "        return ret;\n",
    "    \n",
    "    children = node[\"children\"]\n",
    "    ret = {\n",
    "        \"name\": node[\"name\"], \n",
    "        \"type\": node[\"type\"], # Recursion below\n",
    "        \"children\": [getminiTree_(str(n), nodes) for n in children],\n",
    "\n",
    "    }\n",
    "    return ret"
   ]
  },
  {
   "cell_type": "code",
   "execution_count": null,
   "metadata": {},
   "outputs": [],
   "source": []
  },
  {
   "cell_type": "code",
   "execution_count": 19,
   "metadata": {},
   "outputs": [
    {
     "name": "stdout",
     "output_type": "stream",
     "text": [
      "Exist product directory\n",
      "Write miniproduct/jim.product.json\n",
      "Write miniproduct/erin.product.json\n",
      "Write miniproduct/kelly.product.json\n",
      "Write miniproduct/beesly.product.json\n"
     ]
    }
   ],
   "source": [
    "import os\n",
    "import json\n",
    "import glob as glob\n",
    "\n",
    "rawdata_dir = \"rawdata\"\n",
    "product_dir = \"miniproduct\"\n",
    "\n",
    "try:\n",
    "    os.mkdir(product_dir)\n",
    "    print(\"Creat product directory\")\n",
    "except:\n",
    "    print(\"Exist product directory\")\n",
    "\n",
    "\n",
    "# Find all json files in the rawdata directory\n",
    "jsonFiles = glob.glob(\"{0}/*.json\".format(rawdata_dir))\n",
    "for fs in jsonFiles:\n",
    "    # Construct the path to store data\n",
    "    basename = os.path.basename(fs)\n",
    "    fdname = os.path.splitext(basename)[0]\n",
    "    fdpath = product_dir + \"/\" + fdname + \".product.json\"\n",
    "    with open(fs) as f:\n",
    "        data = json.load(f)\n",
    "        t = getminiTree(indexableNodes(data[\"nodes\"]))\n",
    "        with open(fdpath, \"w+\") as fd:\n",
    "            print(\"Write {0}\".format(fdpath))\n",
    "            json.dump(t, fd)"
   ]
  },
  {
   "cell_type": "code",
   "execution_count": null,
   "metadata": {},
   "outputs": [],
   "source": []
  },
  {
   "cell_type": "markdown",
   "metadata": {},
   "source": [
    "## Legacy Code"
   ]
  },
  {
   "cell_type": "markdown",
   "metadata": {},
   "source": [
    "### Basics Properties of the json files\n",
    "1. **Multiple `roots` allowed**. Different roots might belong to different cluster (`default` cluster, `drain` cluster -- shown in `beesly.json`). `\"stray\"` nodes should also be taken care of.\n",
    "2. **Hierachical structure varied**. It is much better to handle the hierachical structure as directory hierachy. We already seen hierachical structure as follows:\n",
    "    - `root -> host`\n",
    "    - `root -> host -> osd`\n",
    "    - `root -> rack -> host -> osd`"
   ]
  },
  {
   "cell_type": "code",
   "execution_count": 4,
   "metadata": {},
   "outputs": [
    {
     "name": "stdout",
     "output_type": "stream",
     "text": [
      "[Errno 2] No such file or directory: 'data'\n",
      "/Users/mike/Documents/GitHub/cs739-osdvisual/data\n"
     ]
    }
   ],
   "source": [
    "cd data"
   ]
  },
  {
   "cell_type": "code",
   "execution_count": 5,
   "metadata": {},
   "outputs": [],
   "source": [
    "jsonFiles = glob.glob(\"product/*.json\")\n",
    "dataPool = {} # Read Json Data into Pool\n",
    "for fs in jsonFiles:\n",
    "    with open(fs) as f:\n",
    "        dataPool[fs] = json.load(f)"
   ]
  },
  {
   "cell_type": "code",
   "execution_count": 6,
   "metadata": {},
   "outputs": [
    {
     "name": "stdout",
     "output_type": "stream",
     "text": [
      "dict_keys(['product/beesly.json.product.json', 'product/jim.product.json', 'product/kelly.json.product.json', 'product/erin.product.json', 'product/kelly.product.json', 'product/erin.json.product.json', 'product/beesly.product.json', 'product/jim.json.product.json'])\n"
     ]
    }
   ],
   "source": [
    "print(dataPool.keys())"
   ]
  },
  {
   "cell_type": "code",
   "execution_count": 7,
   "metadata": {},
   "outputs": [
    {
     "name": "stdout",
     "output_type": "stream",
     "text": [
      "-- product/beesly.json.product.json --\n"
     ]
    },
    {
     "ename": "KeyError",
     "evalue": "'nodes'",
     "output_type": "error",
     "traceback": [
      "\u001b[0;31m---------------------------------------------------------------------------\u001b[0m",
      "\u001b[0;31mKeyError\u001b[0m                                  Traceback (most recent call last)",
      "\u001b[0;32m<ipython-input-7-f668fbf57faa>\u001b[0m in \u001b[0;36m<module>\u001b[0;34m()\u001b[0m\n\u001b[1;32m     18\u001b[0m     \u001b[0mprint\u001b[0m\u001b[0;34m(\u001b[0m\u001b[0;34m\"-- {} --\"\u001b[0m\u001b[0;34m.\u001b[0m\u001b[0mformat\u001b[0m\u001b[0;34m(\u001b[0m\u001b[0mk\u001b[0m\u001b[0;34m)\u001b[0m\u001b[0;34m)\u001b[0m\u001b[0;34m\u001b[0m\u001b[0m\n\u001b[1;32m     19\u001b[0m     \u001b[0mdata\u001b[0m \u001b[0;34m=\u001b[0m \u001b[0mdataPool\u001b[0m\u001b[0;34m[\u001b[0m\u001b[0mk\u001b[0m\u001b[0;34m]\u001b[0m\u001b[0;34m\u001b[0m\u001b[0m\n\u001b[0;32m---> 20\u001b[0;31m     \u001b[0manalyzeJsonData\u001b[0m\u001b[0;34m(\u001b[0m\u001b[0mdata\u001b[0m\u001b[0;34m)\u001b[0m\u001b[0;34m\u001b[0m\u001b[0m\n\u001b[0m",
      "\u001b[0;32m<ipython-input-7-f668fbf57faa>\u001b[0m in \u001b[0;36manalyzeJsonData\u001b[0;34m(jsonData)\u001b[0m\n\u001b[1;32m      1\u001b[0m \u001b[0;32mdef\u001b[0m \u001b[0manalyzeJsonData\u001b[0m\u001b[0;34m(\u001b[0m\u001b[0mjsonData\u001b[0m\u001b[0;34m)\u001b[0m\u001b[0;34m:\u001b[0m\u001b[0;34m\u001b[0m\u001b[0m\n\u001b[1;32m      2\u001b[0m     \u001b[0;31m# 1. Multiple roots are possible\u001b[0m\u001b[0;34m\u001b[0m\u001b[0;34m\u001b[0m\u001b[0m\n\u001b[0;32m----> 3\u001b[0;31m     \u001b[0mnodes\u001b[0m \u001b[0;34m=\u001b[0m \u001b[0mdata\u001b[0m\u001b[0;34m[\u001b[0m\u001b[0;34m\"nodes\"\u001b[0m\u001b[0;34m]\u001b[0m\u001b[0;34m\u001b[0m\u001b[0m\n\u001b[0m\u001b[1;32m      4\u001b[0m     \u001b[0midset\u001b[0m \u001b[0;34m=\u001b[0m \u001b[0mset\u001b[0m\u001b[0;34m(\u001b[0m\u001b[0mmap\u001b[0m\u001b[0;34m(\u001b[0m\u001b[0;32mlambda\u001b[0m \u001b[0mx\u001b[0m\u001b[0;34m:\u001b[0m \u001b[0mx\u001b[0m\u001b[0;34m[\u001b[0m\u001b[0;34m\"id\"\u001b[0m\u001b[0;34m]\u001b[0m\u001b[0;34m,\u001b[0m \u001b[0mnodes\u001b[0m\u001b[0;34m)\u001b[0m\u001b[0;34m)\u001b[0m\u001b[0;34m\u001b[0m\u001b[0m\n\u001b[1;32m      5\u001b[0m     childrenset = reduce(lambda x,y: set(x) | set(y), \n",
      "\u001b[0;31mKeyError\u001b[0m: 'nodes'"
     ]
    }
   ],
   "source": [
    "def analyzeJsonData(jsonData):\n",
    "    # 1. Multiple roots are possible\n",
    "    nodes = data[\"nodes\"]\n",
    "    idset = set(map(lambda x: x[\"id\"], nodes))\n",
    "    childrenset = reduce(lambda x,y: set(x) | set(y), \n",
    "                         map(lambda x: x.get(\"children\", []), nodes))\n",
    "    print(\"    - root(s): {0}\".format(childrenset ^ idset))\n",
    "    \n",
    "    # 2. OSD have no children, other should have children\n",
    "    \n",
    "    # 3. Maximum number of children varies (in this case, 48)\n",
    "    children_length = map(lambda x: len(x.get(\"children\", [])), nodes)\n",
    "    print(\"    - max children in a node: {0}\".format(max(children_length)))\n",
    "    return \n",
    "\n",
    "    \n",
    "for k in dataPool:\n",
    "    print(\"-- {} --\".format(k))\n",
    "    data = dataPool[k]\n",
    "    analyzeJsonData(data)"
   ]
  }
 ],
 "metadata": {
  "kernelspec": {
   "display_name": "Python 3",
   "language": "python",
   "name": "python3"
  },
  "language_info": {
   "codemirror_mode": {
    "name": "ipython",
    "version": 3
   },
   "file_extension": ".py",
   "mimetype": "text/x-python",
   "name": "python",
   "nbconvert_exporter": "python",
   "pygments_lexer": "ipython3",
   "version": "3.6.4"
  }
 },
 "nbformat": 4,
 "nbformat_minor": 2
}
