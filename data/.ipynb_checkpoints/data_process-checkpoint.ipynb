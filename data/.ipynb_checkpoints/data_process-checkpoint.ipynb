{
 "cells": [
  {
   "cell_type": "markdown",
   "metadata": {},
   "source": [
    "# Ceph OSD json file format"
   ]
  },
  {
   "cell_type": "code",
   "execution_count": 35,
   "metadata": {},
   "outputs": [],
   "source": [
    "import json\n",
    "import glob as glob"
   ]
  },
  {
   "cell_type": "markdown",
   "metadata": {},
   "source": [
    "## Basics Properties of the json files\n",
    "1. **Multiple `roots` allowed**. Different roots might belong to different cluster (`default` cluster, `drain` cluster -- shown in `beesly.json`). `\"stray\"` nodes should also be taken care of.\n",
    "2. **Hierachical structure varied**. It is much better to handle the hierachical structure as directory hierachy. We already seen hierachical structure as follows:\n",
    "    - `root -> host`\n",
    "    - `root -> host -> osd`\n",
    "    - `root -> rack -> host -> osd`"
   ]
  },
  {
   "cell_type": "code",
   "execution_count": 114,
   "metadata": {},
   "outputs": [
    {
     "name": "stdout",
     "output_type": "stream",
     "text": [
      "[Errno 2] No such file or directory: 'data'\n",
      "/Users/mike/Documents/GitHub/cs739-osdvisual/data\n"
     ]
    }
   ],
   "source": [
    "cd data"
   ]
  },
  {
   "cell_type": "code",
   "execution_count": 115,
   "metadata": {},
   "outputs": [],
   "source": [
    "jsonFiles = glob.glob(\"*.json\")\n",
    "dataPool = {} # Read Json Data into Pool\n",
    "for fs in jsonFiles:\n",
    "    with open(fs) as f:\n",
    "        dataPool[fs] = json.load(f)"
   ]
  },
  {
   "cell_type": "code",
   "execution_count": 42,
   "metadata": {},
   "outputs": [
    {
     "name": "stdout",
     "output_type": "stream",
     "text": [
      "['erin.json', 'jim.json', 'beesly.json', 'kelly.json']\n"
     ]
    }
   ],
   "source": [
    "print(dataPool.keys())"
   ]
  },
  {
   "cell_type": "code",
   "execution_count": 43,
   "metadata": {},
   "outputs": [
    {
     "name": "stdout",
     "output_type": "stream",
     "text": [
      "-- erin.json --\n",
      "    - root(s): set([-1])\n",
      "    - max children in a node: 48\n",
      "-- jim.json --\n",
      "    - root(s): set([-299, -1])\n",
      "    - max children in a node: 16\n",
      "-- beesly.json --\n",
      "    - root(s): set([-92, -1])\n",
      "    - max children in a node: 24\n",
      "-- kelly.json --\n",
      "    - root(s): set([-1])\n",
      "    - max children in a node: 14\n"
     ]
    }
   ],
   "source": [
    "def analyzeJsonData(jsonData):\n",
    "    # 1. Multiple roots are possible\n",
    "    nodes = data[\"nodes\"]\n",
    "    idset = set(map(lambda x: x[\"id\"], nodes))\n",
    "    childrenset = reduce(lambda x,y: set(x) | set(y), \n",
    "                         map(lambda x: x.get(\"children\", []), nodes))\n",
    "    print(\"    - root(s): {0}\".format(childrenset ^ idset))\n",
    "    \n",
    "    # 2. OSD have no children, other should have children\n",
    "    \n",
    "    # 3. Maximum number of children varies (in this case, 48)\n",
    "    children_length = map(lambda x: len(x.get(\"children\", [])), nodes)\n",
    "    print(\"    - max children in a node: {0}\".format(max(children_length)))\n",
    "    return \n",
    "\n",
    "    \n",
    "for k in dataPool:\n",
    "    print(\"-- {} --\".format(k))\n",
    "    data = dataPool[k]\n",
    "    analyzeJsonData(data)"
   ]
  },
  {
   "cell_type": "code",
   "execution_count": 70,
   "metadata": {},
   "outputs": [],
   "source": [
    "from copy import deepcopy\n",
    "\n",
    "def indexableNodes(nodes):\n",
    "    return {str(node[\"id\"]):node for node in nodes}\n",
    "\n",
    "def getRoots(nodes):\n",
    "    ROOT_TYPE = \"root\" # ROOT_ID = 10\n",
    "    return [ k for k in nodes if nodes[k][\"type\"] == ROOT_TYPE]\n",
    "\n",
    "# Prepare Data\n",
    "d = dataPool[\"beesly.json\"]\n",
    "nodes = indexableNodes(d[\"nodes\"])\n",
    "nodes_backup = deepcopy(nodes)\n",
    "roots = getRoots(nodes)\n",
    "\n"
   ]
  },
  {
   "cell_type": "markdown",
   "metadata": {},
   "source": [
    "## Construction 1. A Simple Hierachical Parser"
   ]
  },
  {
   "cell_type": "code",
   "execution_count": 87,
   "metadata": {},
   "outputs": [],
   "source": [
    "@timeit\n",
    "def getTree(nodes):\n",
    "    roots = getRoots(nodes);\n",
    "    return {\n",
    "        \"name\": \"_root\",\n",
    "        \"children\": [getTree_(i, nodes) for i in roots]\n",
    "    };\n",
    "\n",
    "\n",
    "def getTree_(i, nodes):\n",
    "    \"\"\"\n",
    "        i: string-typed index\n",
    "        nodes: the indexable nodes representation\n",
    "    \"\"\"\n",
    "    node = nodes[i]\n",
    "    \n",
    "#     print(i, type(i), node)\n",
    "\n",
    "    if node[\"type\"] == \"osd\":\n",
    "        status = 1 if node[\"status\"] == \"up\" else 0\n",
    "        ret = { \n",
    "            \"name\": node[\"name\"], \n",
    "            \"size\": status, # Temporary indication of the \n",
    "            \"data\": node\n",
    "        }\n",
    "        return ret;\n",
    "    \n",
    "    children = node[\"children\"]\n",
    "    ret = {\n",
    "        \"name\": node[\"name\"],\n",
    "        \"children\": [getTree_(str(n), nodes) for n in children],\n",
    "        \"data\": node\n",
    "    }\n",
    "    return ret"
   ]
  },
  {
   "cell_type": "code",
   "execution_count": 88,
   "metadata": {},
   "outputs": [],
   "source": [
    "import time\n",
    "def timeit(method):\n",
    "    def timed(*args, **kw):\n",
    "        ts = time.time()\n",
    "        result = method(*args, **kw)\n",
    "        te = time.time()\n",
    "        if 'log_time' in kw:\n",
    "            name = kw.get('log_name', method.__name__.upper())\n",
    "            kw['log_time'][name] = int((te - ts) * 1000)\n",
    "        else:\n",
    "            print '%r  %2.2f ms' % \\\n",
    "                  (method.__name__, (te - ts) * 1000)\n",
    "        return result\n",
    "    return timed"
   ]
  },
  {
   "cell_type": "code",
   "execution_count": 89,
   "metadata": {},
   "outputs": [
    {
     "name": "stdout",
     "output_type": "stream",
     "text": [
      "'getTree'  5.85 ms\n"
     ]
    }
   ],
   "source": [
    "t = getTree(nodes)"
   ]
  },
  {
   "cell_type": "markdown",
   "metadata": {},
   "source": [
    "## Test"
   ]
  },
  {
   "cell_type": "code",
   "execution_count": 91,
   "metadata": {},
   "outputs": [],
   "source": [
    "with open(\"processed.json\", \"w+\") as f:\n",
    "    json.dump(t, f)"
   ]
  },
  {
   "cell_type": "markdown",
   "metadata": {},
   "source": [
    "## Production\n",
    "\n",
    "- Source json directory: `rawdata`\n",
    "- Product json directory: `product`"
   ]
  },
  {
   "cell_type": "code",
   "execution_count": 113,
   "metadata": {},
   "outputs": [
    {
     "name": "stdout",
     "output_type": "stream",
     "text": [
      "Exist product directory\n",
      "'getTree'  2.53 ms\n",
      "Write rawdata/jim.json\n",
      "'getTree'  2.37 ms\n",
      "Write rawdata/erin.json\n",
      "'getTree'  0.89 ms\n",
      "Write rawdata/kelly.json\n",
      "'getTree'  3.40 ms\n",
      "Write rawdata/beesly.json\n"
     ]
    }
   ],
   "source": [
    "import os\n",
    "\n",
    "rawdata_dir = \"rawdata\"\n",
    "product_dir = \"product\"\n",
    "\n",
    "try:\n",
    "    os.mkdir(product_dir)\n",
    "    print(\"Creat product directory\")\n",
    "except:\n",
    "    print(\"Exist product directory\")\n",
    "\n",
    "\n",
    "# Find all json files in the rawdata directory\n",
    "jsonFiles = glob.glob(\"{0}/*.json\".format(rawdata_dir))\n",
    "for fs in jsonFiles:\n",
    "    # Construct the path to store data\n",
    "    basename = os.path.basename(fs)\n",
    "    fdname = os.path.splitext(basename)[0]\n",
    "    fdpath = \"product/\" + fdname + \".product.json\"    \n",
    "    with open(fs) as f:\n",
    "        data = json.load(f)\n",
    "        t = getTree(indexableNodes(data[\"nodes\"]))  \n",
    "        with open(fdpath, \"w+\") as fd:\n",
    "            print(\"Write {0}\".format(fs))\n",
    "            json.dump(t, fd)"
   ]
  },
  {
   "cell_type": "code",
   "execution_count": null,
   "metadata": {},
   "outputs": [],
   "source": []
  }
 ],
 "metadata": {
  "kernelspec": {
   "display_name": "Python 3",
   "language": "python",
   "name": "python3"
  },
  "language_info": {
   "codemirror_mode": {
    "name": "ipython",
    "version": 2
   },
   "file_extension": ".py",
   "mimetype": "text/x-python",
   "name": "python",
   "nbconvert_exporter": "python",
   "pygments_lexer": "ipython2",
   "version": "2.7.15"
  }
 },
 "nbformat": 4,
 "nbformat_minor": 2
}
